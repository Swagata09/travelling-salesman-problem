{
 "cells": [
  {
   "cell_type": "markdown",
   "metadata": {},
   "source": [
    "#  To Find Shortest Path (TSP)"
   ]
  },
  {
   "cell_type": "markdown",
   "metadata": {},
   "source": [
    "## Problem Statement\n",
    "\n",
    "To calculate shortest path that will cover all the 256 cities of USA so that 2020 US Presidential Candidate can visit all these cities for his/her campaign starting from San Fransisco and this tour ends in the same city. Each city should visit only once and starting & ending city should be same.We have to calculate shortest distance possible for this campaign. </br>\n",
    "This problem refers to 'Traveling Salesman Problem'."
   ]
  },
  {
   "cell_type": "markdown",
   "metadata": {},
   "source": [
    "## Input File\n",
    "\n",
    "There is input file named 'cities_all.csv' given which consist of 256 records for City, State, Latitude, Longitude.\n",
    "\n",
    "\n"
   ]
  },
  {
   "cell_type": "markdown",
   "metadata": {},
   "source": [
    "## TSP Algorithm, connecting random dots "
   ]
  },
  {
   "cell_type": "code",
   "execution_count": null,
   "metadata": {},
   "outputs": [],
   "source": [
    "import numpy as np\n",
    "\n",
    "# Calculate the euclidian distance in n-space of the route r traversing cities c, ending at the path start.\n",
    "path_distance = lambda r,c: np.sum([np.linalg.norm(c[r[p]]-c[r[p-1]]) for p in range(len(r))])\n",
    "\n",
    "\n",
    "# Reverse the order of all elements from element i to element k in array r.\n",
    "two_opt_swap = lambda r,i,k: np.concatenate((r[0:i],r[k:-len(r)+i-1:-1],r[k+1:len(r)]))\n",
    "\n",
    "def two_opt(cities,improvement_threshold): # 2-opt Algorithm adapted from https://en.wikipedia.org/wiki/2-opt\n",
    "    route = np.arange(cities.shape[0]) # Make an array of row numbers corresponding to cities.\n",
    "    improvement_factor = 1 # Initialize the improvement factor.\n",
    "    best_distance = path_distance(route,cities) # Calculate the distance of the initial path.\n",
    "    \n",
    "    while improvement_factor > improvement_threshold: # If the route is still improving, keep going!\n",
    "        distance_to_beat = best_distance # Record the distance at the beginning of the loop.\n",
    "        \n",
    "        for swap_first in range(1,len(route)-2): # From each city except the first and last,\n",
    "            for swap_last in range(swap_first+1,len(route)): # to each of the cities following,\n",
    "                new_route = two_opt_swap(route,swap_first,swap_last) # try reversing the order of these cities\n",
    "                new_distance = path_distance(new_route,cities) # and check the total distance with this modification.\n",
    "                \n",
    "                if new_distance < best_distance: # If the path distance is an improvement,\n",
    "                    route = new_route # make this the accepted best route\n",
    "                    best_distance = new_distance # and update the distance corresponding to this route.\n",
    "        improvement_factor = 1 - best_distance/distance_to_beat # Calculate how much the route has improved.\n",
    "    return route # When the route is no longer improving substantially, stop searching and return the route."
   ]
  },
  {
   "cell_type": "markdown",
   "metadata": {},
   "source": [
    "## Import records of cities along with its Latitude and Longitude"
   ]
  },
  {
   "cell_type": "code",
   "execution_count": 40,
   "metadata": {},
   "outputs": [
    {
     "data": {
      "text/html": [
       "<div>\n",
       "<style scoped>\n",
       "    .dataframe tbody tr th:only-of-type {\n",
       "        vertical-align: middle;\n",
       "    }\n",
       "\n",
       "    .dataframe tbody tr th {\n",
       "        vertical-align: top;\n",
       "    }\n",
       "\n",
       "    .dataframe thead th {\n",
       "        text-align: right;\n",
       "    }\n",
       "</style>\n",
       "<table border=\"1\" class=\"dataframe\">\n",
       "  <thead>\n",
       "    <tr style=\"text-align: right;\">\n",
       "      <th></th>\n",
       "      <th>City</th>\n",
       "      <th>State</th>\n",
       "      <th>Latitude</th>\n",
       "      <th>Longitude</th>\n",
       "    </tr>\n",
       "  </thead>\n",
       "  <tbody>\n",
       "    <tr>\n",
       "      <th>0</th>\n",
       "      <td>San Francisco</td>\n",
       "      <td>California</td>\n",
       "      <td>37.774929</td>\n",
       "      <td>-122.419415</td>\n",
       "    </tr>\n",
       "    <tr>\n",
       "      <th>1</th>\n",
       "      <td>Aliso Viejo</td>\n",
       "      <td>California</td>\n",
       "      <td>33.567684</td>\n",
       "      <td>-117.725608</td>\n",
       "    </tr>\n",
       "    <tr>\n",
       "      <th>2</th>\n",
       "      <td>Rapid City</td>\n",
       "      <td>South Dakota</td>\n",
       "      <td>44.080543</td>\n",
       "      <td>-103.231015</td>\n",
       "    </tr>\n",
       "    <tr>\n",
       "      <th>3</th>\n",
       "      <td>Coon Rapids</td>\n",
       "      <td>Minnesota</td>\n",
       "      <td>45.173239</td>\n",
       "      <td>-93.303006</td>\n",
       "    </tr>\n",
       "    <tr>\n",
       "      <th>4</th>\n",
       "      <td>Malden</td>\n",
       "      <td>Massachusetts</td>\n",
       "      <td>42.425096</td>\n",
       "      <td>-71.066163</td>\n",
       "    </tr>\n",
       "    <tr>\n",
       "      <th>5</th>\n",
       "      <td>Noblesville</td>\n",
       "      <td>Indiana</td>\n",
       "      <td>40.045592</td>\n",
       "      <td>-86.008595</td>\n",
       "    </tr>\n",
       "  </tbody>\n",
       "</table>\n",
       "</div>"
      ],
      "text/plain": [
       "            City          State   Latitude   Longitude\n",
       "0  San Francisco     California  37.774929 -122.419415\n",
       "1    Aliso Viejo     California  33.567684 -117.725608\n",
       "2     Rapid City   South Dakota  44.080543 -103.231015\n",
       "3    Coon Rapids      Minnesota  45.173239  -93.303006\n",
       "4         Malden  Massachusetts  42.425096  -71.066163\n",
       "5    Noblesville        Indiana  40.045592  -86.008595"
      ]
     },
     "execution_count": 40,
     "metadata": {},
     "output_type": "execute_result"
    }
   ],
   "source": [
    "import pandas as pd\n",
    "cities2= pd.read_csv(\"cities_all.csv\")\n",
    "cities2.head(6)"
   ]
  },
  {
   "cell_type": "markdown",
   "metadata": {},
   "source": [
    "## Converting Longitude and Latitude into Cartesian X and Y\n",
    "\n",
    "** R of earth =6371 KM**\n",
    "\n",
    "x = R * cos( radiance(lat) ) * cos(radiance (lon))\n",
    "\n",
    "y = R * cos( radiance(lat) ) * sin(radiance (lon))"
   ]
  },
  {
   "cell_type": "code",
   "execution_count": 41,
   "metadata": {},
   "outputs": [
    {
     "data": {
      "text/html": [
       "<div>\n",
       "<style scoped>\n",
       "    .dataframe tbody tr th:only-of-type {\n",
       "        vertical-align: middle;\n",
       "    }\n",
       "\n",
       "    .dataframe tbody tr th {\n",
       "        vertical-align: top;\n",
       "    }\n",
       "\n",
       "    .dataframe thead th {\n",
       "        text-align: right;\n",
       "    }\n",
       "</style>\n",
       "<table border=\"1\" class=\"dataframe\">\n",
       "  <thead>\n",
       "    <tr style=\"text-align: right;\">\n",
       "      <th></th>\n",
       "      <th>City</th>\n",
       "      <th>State</th>\n",
       "      <th>Latitude</th>\n",
       "      <th>Longitude</th>\n",
       "      <th>lat_radians</th>\n",
       "      <th>lon_radians</th>\n",
       "      <th>x</th>\n",
       "      <th>y</th>\n",
       "    </tr>\n",
       "  </thead>\n",
       "  <tbody>\n",
       "    <tr>\n",
       "      <th>0</th>\n",
       "      <td>San Francisco</td>\n",
       "      <td>California</td>\n",
       "      <td>37.774929</td>\n",
       "      <td>-122.419415</td>\n",
       "      <td>0.659297</td>\n",
       "      <td>-2.136622</td>\n",
       "      <td>-2699.749565</td>\n",
       "      <td>-2092.248985</td>\n",
       "    </tr>\n",
       "    <tr>\n",
       "      <th>1</th>\n",
       "      <td>Aliso Viejo</td>\n",
       "      <td>California</td>\n",
       "      <td>33.567684</td>\n",
       "      <td>-117.725608</td>\n",
       "      <td>0.585867</td>\n",
       "      <td>-2.054699</td>\n",
       "      <td>-2469.727915</td>\n",
       "      <td>-1638.876195</td>\n",
       "    </tr>\n",
       "    <tr>\n",
       "      <th>2</th>\n",
       "      <td>Rapid City</td>\n",
       "      <td>South Dakota</td>\n",
       "      <td>44.080543</td>\n",
       "      <td>-103.231015</td>\n",
       "      <td>0.769351</td>\n",
       "      <td>-1.801721</td>\n",
       "      <td>-1047.502487</td>\n",
       "      <td>-1014.410997</td>\n",
       "    </tr>\n",
       "    <tr>\n",
       "      <th>3</th>\n",
       "      <td>Coon Rapids</td>\n",
       "      <td>Minnesota</td>\n",
       "      <td>45.173239</td>\n",
       "      <td>-93.303006</td>\n",
       "      <td>0.788422</td>\n",
       "      <td>-1.628445</td>\n",
       "      <td>-258.774626</td>\n",
       "      <td>-260.344237</td>\n",
       "    </tr>\n",
       "    <tr>\n",
       "      <th>4</th>\n",
       "      <td>Malden</td>\n",
       "      <td>Massachusetts</td>\n",
       "      <td>42.425096</td>\n",
       "      <td>-71.066163</td>\n",
       "      <td>0.740458</td>\n",
       "      <td>-1.240339</td>\n",
       "      <td>1525.951607</td>\n",
       "      <td>1394.611476</td>\n",
       "    </tr>\n",
       "  </tbody>\n",
       "</table>\n",
       "</div>"
      ],
      "text/plain": [
       "            City          State   Latitude   Longitude  lat_radians  \\\n",
       "0  San Francisco     California  37.774929 -122.419415     0.659297   \n",
       "1    Aliso Viejo     California  33.567684 -117.725608     0.585867   \n",
       "2     Rapid City   South Dakota  44.080543 -103.231015     0.769351   \n",
       "3    Coon Rapids      Minnesota  45.173239  -93.303006     0.788422   \n",
       "4         Malden  Massachusetts  42.425096  -71.066163     0.740458   \n",
       "\n",
       "   lon_radians            x            y  \n",
       "0    -2.136622 -2699.749565 -2092.248985  \n",
       "1    -2.054699 -2469.727915 -1638.876195  \n",
       "2    -1.801721 -1047.502487 -1014.410997  \n",
       "3    -1.628445  -258.774626  -260.344237  \n",
       "4    -1.240339  1525.951607  1394.611476  "
      ]
     },
     "execution_count": 41,
     "metadata": {},
     "output_type": "execute_result"
    }
   ],
   "source": [
    "from math import radians,cos,sin\n",
    "lat =cities2[\"Latitude\"].map(radians)\n",
    "lon = cities2[\"Longitude\"].map(radians)\n",
    "x = lon.map(cos)*lat.map(cos)*6371\n",
    "y= lon.map(cos)*lat.map(sin)*6371\n",
    "\n",
    "cities2[\"lat_radians\"] = lat\n",
    "cities2[\"lon_radians\"] = lon\n",
    "cities2[\"x\"] = x\n",
    "cities2[\"y\"] = y\n",
    "cities2.head()\n",
    "\n"
   ]
  },
  {
   "cell_type": "code",
   "execution_count": 42,
   "metadata": {},
   "outputs": [
    {
     "data": {
      "text/html": [
       "<div>\n",
       "<style scoped>\n",
       "    .dataframe tbody tr th:only-of-type {\n",
       "        vertical-align: middle;\n",
       "    }\n",
       "\n",
       "    .dataframe tbody tr th {\n",
       "        vertical-align: top;\n",
       "    }\n",
       "\n",
       "    .dataframe thead th {\n",
       "        text-align: right;\n",
       "    }\n",
       "</style>\n",
       "<table border=\"1\" class=\"dataframe\">\n",
       "  <thead>\n",
       "    <tr style=\"text-align: right;\">\n",
       "      <th></th>\n",
       "      <th>x</th>\n",
       "      <th>y</th>\n",
       "    </tr>\n",
       "  </thead>\n",
       "  <tbody>\n",
       "    <tr>\n",
       "      <th>0</th>\n",
       "      <td>-2699.749565</td>\n",
       "      <td>-2092.248985</td>\n",
       "    </tr>\n",
       "    <tr>\n",
       "      <th>1</th>\n",
       "      <td>-2469.727915</td>\n",
       "      <td>-1638.876195</td>\n",
       "    </tr>\n",
       "    <tr>\n",
       "      <th>2</th>\n",
       "      <td>-1047.502487</td>\n",
       "      <td>-1014.410997</td>\n",
       "    </tr>\n",
       "    <tr>\n",
       "      <th>3</th>\n",
       "      <td>-258.774626</td>\n",
       "      <td>-260.344237</td>\n",
       "    </tr>\n",
       "    <tr>\n",
       "      <th>4</th>\n",
       "      <td>1525.951607</td>\n",
       "      <td>1394.611476</td>\n",
       "    </tr>\n",
       "    <tr>\n",
       "      <th>5</th>\n",
       "      <td>339.486999</td>\n",
       "      <td>285.324063</td>\n",
       "    </tr>\n",
       "  </tbody>\n",
       "</table>\n",
       "</div>"
      ],
      "text/plain": [
       "             x            y\n",
       "0 -2699.749565 -2092.248985\n",
       "1 -2469.727915 -1638.876195\n",
       "2 -1047.502487 -1014.410997\n",
       "3  -258.774626  -260.344237\n",
       "4  1525.951607  1394.611476\n",
       "5   339.486999   285.324063"
      ]
     },
     "execution_count": 42,
     "metadata": {},
     "output_type": "execute_result"
    }
   ],
   "source": [
    "cities = cities2.drop([\"City\", \"State\",\"Latitude\", \"Longitude\", \"lat_radians\", \"lon_radians\"], 1)\n",
    "cities.head(6)"
   ]
  },
  {
   "cell_type": "code",
   "execution_count": 43,
   "metadata": {},
   "outputs": [],
   "source": [
    "df = cities.copy()"
   ]
  },
  {
   "cell_type": "code",
   "execution_count": 44,
   "metadata": {},
   "outputs": [],
   "source": [
    "from sklearn.preprocessing import MinMaxScaler\n",
    "scaler = MinMaxScaler(feature_range=(0, 100), copy=True)\n",
    "scaled_df = scaler.fit_transform(df)\n",
    "scaled_df = pd.DataFrame(scaled_df, columns=['x1', 'x2'])\n"
   ]
  },
  {
   "cell_type": "code",
   "execution_count": 45,
   "metadata": {},
   "outputs": [],
   "source": [
    "cities = np.asarray(cities)"
   ]
  },
  {
   "cell_type": "code",
   "execution_count": 46,
   "metadata": {},
   "outputs": [],
   "source": [
    "scaled = np.asarray(scaled_df)"
   ]
  },
  {
   "cell_type": "markdown",
   "metadata": {},
   "source": [
    "## Find a good route with 2-opt (\"route\" gives the order in which to travel to each city by row number.)"
   ]
  },
  {
   "cell_type": "code",
   "execution_count": 47,
   "metadata": {
    "scrolled": true
   },
   "outputs": [
    {
     "data": {
      "text/plain": [
       "array([  0, 194,  29, 122,  54,  41, 112, 157,  16, 227, 146,  73,  37,\n",
       "        89, 255,  52, 243,  22, 203,  93, 160, 232, 110, 192, 123, 141,\n",
       "        10, 113, 244, 234, 201,   1, 250,  82, 108, 116, 241,  55, 180,\n",
       "       154, 106,  12,  74, 147,  97, 215, 211,  91, 210,  46, 236, 235,\n",
       "       171, 169, 126,  34,  72,  68, 161,  60, 248, 198,  30,  76, 247,\n",
       "        51,  79,  19, 140,  69, 151, 219, 230,  78,  67, 218, 245,  63,\n",
       "       224, 184, 214,   8, 221,  11,  17,  21, 124, 134, 220, 233,  99,\n",
       "        56,  49,   5, 168,  90,  35, 162, 143,  75, 239, 229, 186, 137,\n",
       "        88, 152, 118, 172,   9, 195, 246,  13, 173, 178, 188, 204, 131,\n",
       "       240,  44,  25, 136, 190,  39, 183, 144, 212, 251, 187, 155,   4,\n",
       "        80, 174,  71,  28,  23, 164,  61, 191,  94, 253,  85, 179, 133,\n",
       "       105, 149,  66, 252, 226, 158, 156, 119, 193, 167, 249,  70, 231,\n",
       "        36, 196, 222,  20, 165, 129, 114, 209,   7,   6, 142, 181,  65,\n",
       "        32,  87, 216, 189, 206,  33, 125, 228, 121, 205, 153, 237, 207,\n",
       "       208, 166,  53, 128,  26,  42,  59,  38, 130, 185, 115, 175, 120,\n",
       "       102, 109,  98,  24, 217,  92,   3, 132,  40, 159,  95, 148,  15,\n",
       "        77, 150,  58, 111,  50, 176,   2,  57, 177,  47,  64,  14,  62,\n",
       "        45, 127, 139, 138, 182, 163,  27, 197,  48, 104, 202, 238, 199,\n",
       "       200, 213, 223,  31,  96, 101, 242, 135, 145, 254, 100, 170,  43,\n",
       "        86,  83, 107, 103, 225,  84,  81, 117,  18])"
      ]
     },
     "execution_count": 47,
     "metadata": {},
     "output_type": "execute_result"
    }
   ],
   "source": [
    "route = two_opt(scaled,0.001)\n",
    "route"
   ]
  },
  {
   "cell_type": "markdown",
   "metadata": {},
   "source": [
    "## PLOT IN CARTESIAN "
   ]
  },
  {
   "cell_type": "code",
   "execution_count": 48,
   "metadata": {},
   "outputs": [
    {
     "data": {
      "image/png": "[encoded data removed]",
      "text/plain": [
       "<Figure size 1080x360 with 1 Axes>"
      ]
     },
     "metadata": {
      "needs_background": "light"
     },
     "output_type": "display_data"
    },
    {
     "name": "stdout",
     "output_type": "stream",
     "text": [
      "Route: [  0 194  29 122  54  41 112 157  16 227 146  73  37  89 255  52 243  22\n",
      " 203  93 160 232 110 192 123 141  10 113 244 234 201   1 250  82 108 116\n",
      " 241  55 180 154 106  12  74 147  97 215 211  91 210  46 236 235 171 169\n",
      " 126  34  72  68 161  60 248 198  30  76 247  51  79  19 140  69 151 219\n",
      " 230  78  67 218 245  63 224 184 214   8 221  11  17  21 124 134 220 233\n",
      "  99  56  49   5 168  90  35 162 143  75 239 229 186 137  88 152 118 172\n",
      "   9 195 246  13 173 178 188 204 131 240  44  25 136 190  39 183 144 212\n",
      " 251 187 155   4  80 174  71  28  23 164  61 191  94 253  85 179 133 105\n",
      " 149  66 252 226 158 156 119 193 167 249  70 231  36 196 222  20 165 129\n",
      " 114 209   7   6 142 181  65  32  87 216 189 206  33 125 228 121 205 153\n",
      " 237 207 208 166  53 128  26  42  59  38 130 185 115 175 120 102 109  98\n",
      "  24 217  92   3 132  40 159  95 148  15  77 150  58 111  50 176   2  57\n",
      " 177  47  64  14  62  45 127 139 138 182 163  27 197  48 104 202 238 199\n",
      " 200 213 223  31  96 101 242 135 145 254 100 170  43  86  83 107 103 225\n",
      "  84  81 117  18]\n",
      "\n",
      "Distance_scaled: 391.2689234590366\n"
     ]
    }
   ],
   "source": [
    "import matplotlib.pyplot as plt\n",
    "# Reorder the cities matrix by route order in a new matrix for plotting.\n",
    "new_cities_order = np.concatenate((np.array([scaled[route[i]] for i in range(len(route))]),np.array([scaled[0]])))\n",
    "# Plot the cities.\n",
    "plt.scatter(scaled[:,0],scaled[:,1])\n",
    "# Plot the path.\n",
    "plt.plot(new_cities_order[:,0],new_cities_order[:,1])\n",
    "plt.show()\n",
    "# Print the route as row numbers and the total distance travelled by the path.\n",
    "print(\"Route: \" + str(route) + \"\\n\\nDistance_scaled: \" + str(path_distance(route,scaled)))"
   ]
  },
  {
   "cell_type": "code",
   "execution_count": 49,
   "metadata": {},
   "outputs": [
    {
     "data": {
      "text/plain": [
       "20858.546309601243"
      ]
     },
     "execution_count": 49,
     "metadata": {},
     "output_type": "execute_result"
    }
   ],
   "source": [
    "# unit of scale = ()Max (Lng or Lat) - Min(Lng or Lat)) /100\n",
    "# unit of scale = 53.31km\n",
    "Distance_km = path_distance(route,scaled) * 53.31\n",
    "Distance_km"
   ]
  },
  {
   "cell_type": "markdown",
   "metadata": {},
   "source": [
    "#### Hence, Distance is 20858.546309601243"
   ]
  },
  {
   "cell_type": "code",
   "execution_count": 50,
   "metadata": {},
   "outputs": [],
   "source": [
    "order = pd.DataFrame(route, columns=[\"index\"])\n",
    "cities2[\"index\"] = cities2.index\n",
    "cities2\n",
    "travel=order.merge(cities2, on = \"index\")"
   ]
  },
  {
   "cell_type": "code",
   "execution_count": 70,
   "metadata": {},
   "outputs": [
    {
     "data": {
      "text/html": [
       "<div>\n",
       "<style scoped>\n",
       "    .dataframe tbody tr th:only-of-type {\n",
       "        vertical-align: middle;\n",
       "    }\n",
       "\n",
       "    .dataframe tbody tr th {\n",
       "        vertical-align: top;\n",
       "    }\n",
       "\n",
       "    .dataframe thead th {\n",
       "        text-align: right;\n",
       "    }\n",
       "</style>\n",
       "<table border=\"1\" class=\"dataframe\">\n",
       "  <thead>\n",
       "    <tr style=\"text-align: right;\">\n",
       "      <th></th>\n",
       "      <th>index</th>\n",
       "      <th>City</th>\n",
       "      <th>State</th>\n",
       "      <th>Latitude</th>\n",
       "      <th>Longitude</th>\n",
       "      <th>lat_radians</th>\n",
       "      <th>lon_radians</th>\n",
       "      <th>x</th>\n",
       "      <th>y</th>\n",
       "    </tr>\n",
       "  </thead>\n",
       "  <tbody>\n",
       "    <tr>\n",
       "      <th>0</th>\n",
       "      <td>0</td>\n",
       "      <td>San Francisco</td>\n",
       "      <td>California</td>\n",
       "      <td>37.774929</td>\n",
       "      <td>-122.419415</td>\n",
       "      <td>0.659297</td>\n",
       "      <td>-2.136622</td>\n",
       "      <td>-2699.749565</td>\n",
       "      <td>-2092.248985</td>\n",
       "    </tr>\n",
       "    <tr>\n",
       "      <th>1</th>\n",
       "      <td>194</td>\n",
       "      <td>South San Francisco</td>\n",
       "      <td>California</td>\n",
       "      <td>37.654656</td>\n",
       "      <td>-122.407750</td>\n",
       "      <td>0.657198</td>\n",
       "      <td>-2.136418</td>\n",
       "      <td>-2703.268622</td>\n",
       "      <td>-2085.908172</td>\n",
       "    </tr>\n",
       "    <tr>\n",
       "      <th>2</th>\n",
       "      <td>29</td>\n",
       "      <td>San Mateo</td>\n",
       "      <td>California</td>\n",
       "      <td>37.562992</td>\n",
       "      <td>-122.325525</td>\n",
       "      <td>0.655598</td>\n",
       "      <td>-2.134983</td>\n",
       "      <td>-2700.480800</td>\n",
       "      <td>-2076.872811</td>\n",
       "    </tr>\n",
       "    <tr>\n",
       "      <th>3</th>\n",
       "      <td>122</td>\n",
       "      <td>Campbell</td>\n",
       "      <td>California</td>\n",
       "      <td>37.287165</td>\n",
       "      <td>-121.949957</td>\n",
       "      <td>0.650784</td>\n",
       "      <td>-2.128428</td>\n",
       "      <td>-2682.313180</td>\n",
       "      <td>-2042.425651</td>\n",
       "    </tr>\n",
       "    <tr>\n",
       "      <th>4</th>\n",
       "      <td>54</td>\n",
       "      <td>San Jose</td>\n",
       "      <td>California</td>\n",
       "      <td>37.338208</td>\n",
       "      <td>-121.886329</td>\n",
       "      <td>0.651675</td>\n",
       "      <td>-2.127318</td>\n",
       "      <td>-2675.717868</td>\n",
       "      <td>-2041.172044</td>\n",
       "    </tr>\n",
       "    <tr>\n",
       "      <th>...</th>\n",
       "      <td>...</td>\n",
       "      <td>...</td>\n",
       "      <td>...</td>\n",
       "      <td>...</td>\n",
       "      <td>...</td>\n",
       "      <td>...</td>\n",
       "      <td>...</td>\n",
       "      <td>...</td>\n",
       "      <td>...</td>\n",
       "    </tr>\n",
       "    <tr>\n",
       "      <th>252</th>\n",
       "      <td>84</td>\n",
       "      <td>San Ramon</td>\n",
       "      <td>California</td>\n",
       "      <td>37.779927</td>\n",
       "      <td>-121.978015</td>\n",
       "      <td>0.659384</td>\n",
       "      <td>-2.128918</td>\n",
       "      <td>-2666.740720</td>\n",
       "      <td>-2067.040173</td>\n",
       "    </tr>\n",
       "    <tr>\n",
       "      <th>253</th>\n",
       "      <td>81</td>\n",
       "      <td>San Leandro</td>\n",
       "      <td>California</td>\n",
       "      <td>37.724930</td>\n",
       "      <td>-122.156077</td>\n",
       "      <td>0.658424</td>\n",
       "      <td>-2.132026</td>\n",
       "      <td>-2681.994832</td>\n",
       "      <td>-2074.745822</td>\n",
       "    </tr>\n",
       "    <tr>\n",
       "      <th>254</th>\n",
       "      <td>117</td>\n",
       "      <td>Vallejo</td>\n",
       "      <td>California</td>\n",
       "      <td>38.104086</td>\n",
       "      <td>-122.256637</td>\n",
       "      <td>0.665042</td>\n",
       "      <td>-2.133781</td>\n",
       "      <td>-2675.651485</td>\n",
       "      <td>-2098.286925</td>\n",
       "    </tr>\n",
       "    <tr>\n",
       "      <th>255</th>\n",
       "      <td>18</td>\n",
       "      <td>Napa</td>\n",
       "      <td>California</td>\n",
       "      <td>38.297538</td>\n",
       "      <td>-122.286865</td>\n",
       "      <td>0.668418</td>\n",
       "      <td>-2.134308</td>\n",
       "      <td>-2670.782072</td>\n",
       "      <td>-2109.070256</td>\n",
       "    </tr>\n",
       "    <tr>\n",
       "      <th>0</th>\n",
       "      <td>0</td>\n",
       "      <td>San Francisco</td>\n",
       "      <td>California</td>\n",
       "      <td>37.774929</td>\n",
       "      <td>-122.419415</td>\n",
       "      <td>0.659297</td>\n",
       "      <td>-2.136622</td>\n",
       "      <td>-2699.749565</td>\n",
       "      <td>-2092.248985</td>\n",
       "    </tr>\n",
       "  </tbody>\n",
       "</table>\n",
       "<p>257 rows × 9 columns</p>\n",
       "</div>"
      ],
      "text/plain": [
       "     index                 City       State   Latitude   Longitude  \\\n",
       "0        0        San Francisco  California  37.774929 -122.419415   \n",
       "1      194  South San Francisco  California  37.654656 -122.407750   \n",
       "2       29            San Mateo  California  37.562992 -122.325525   \n",
       "3      122             Campbell  California  37.287165 -121.949957   \n",
       "4       54             San Jose  California  37.338208 -121.886329   \n",
       "..     ...                  ...         ...        ...         ...   \n",
       "252     84            San Ramon  California  37.779927 -121.978015   \n",
       "253     81          San Leandro  California  37.724930 -122.156077   \n",
       "254    117              Vallejo  California  38.104086 -122.256637   \n",
       "255     18                 Napa  California  38.297538 -122.286865   \n",
       "0        0        San Francisco  California  37.774929 -122.419415   \n",
       "\n",
       "     lat_radians  lon_radians            x            y  \n",
       "0       0.659297    -2.136622 -2699.749565 -2092.248985  \n",
       "1       0.657198    -2.136418 -2703.268622 -2085.908172  \n",
       "2       0.655598    -2.134983 -2700.480800 -2076.872811  \n",
       "3       0.650784    -2.128428 -2682.313180 -2042.425651  \n",
       "4       0.651675    -2.127318 -2675.717868 -2041.172044  \n",
       "..           ...          ...          ...          ...  \n",
       "252     0.659384    -2.128918 -2666.740720 -2067.040173  \n",
       "253     0.658424    -2.132026 -2681.994832 -2074.745822  \n",
       "254     0.665042    -2.133781 -2675.651485 -2098.286925  \n",
       "255     0.668418    -2.134308 -2670.782072 -2109.070256  \n",
       "0       0.659297    -2.136622 -2699.749565 -2092.248985  \n",
       "\n",
       "[257 rows x 9 columns]"
      ]
     },
     "execution_count": 70,
     "metadata": {},
     "output_type": "execute_result"
    }
   ],
   "source": [
    "start= travel[0:1]\n",
    "loop = travel.append(start)\n",
    "loop"
   ]
  },
  {
   "cell_type": "markdown",
   "metadata": {},
   "source": [
    "## Writting best route to CSV file"
   ]
  },
  {
   "cell_type": "code",
   "execution_count": 72,
   "metadata": {},
   "outputs": [],
   "source": [
    "loop['City'].to_csv('output.csv',index = False )"
   ]
  },
  {
   "cell_type": "markdown",
   "metadata": {},
   "source": [
    "## PLOT IN LONGITUDE AND LATITUDE"
   ]
  },
  {
   "cell_type": "code",
   "execution_count": 53,
   "metadata": {},
   "outputs": [
    {
     "data": {
      "text/plain": [
       "<AxesSubplot:xlabel='Longitude'>"
      ]
     },
     "execution_count": 53,
     "metadata": {},
     "output_type": "execute_result"
    },
    {
     "data": {
      "image/png": "[encoded data removed]",
      "text/plain": [
       "<Figure size 1080x360 with 1 Axes>"
      ]
     },
     "metadata": {
      "needs_background": "light"
     },
     "output_type": "display_data"
    }
   ],
   "source": [
    "loop.plot(kind=\"line\", x=\"Longitude\", y=\"Latitude\")"
   ]
  }
 ],
 "metadata": {
  "kernelspec": {
   "display_name": "Python 3",
   "language": "python",
   "name": "python3"
  },
  "language_info": {
   "codemirror_mode": {
    "name": "ipython",
    "version": 3
   },
   "file_extension": ".py",
   "mimetype": "text/x-python",
   "name": "python",
   "nbconvert_exporter": "python",
   "pygments_lexer": "ipython3",
   "version": "3.8.5"
  }
 },
 "nbformat": 4,
 "nbformat_minor": 4
}
